{
 "cells": [
  {
   "cell_type": "code",
   "execution_count": 25,
   "metadata": {},
   "outputs": [],
   "source": [
    "import numpy as np\n",
    "import pandas as pd"
   ]
  },
  {
   "cell_type": "code",
   "execution_count": 26,
   "metadata": {},
   "outputs": [
    {
     "name": "stdout",
     "output_type": "stream",
     "text": [
      "Empty DataFrame\n",
      "Columns: [0,  0,  0.1,  0.2,  0.3,  0.4,  0.5,  0.6,  0.7,  0.8,  20,  0.9,  0.10,  0.11,  0.12,  0.13,  0.14,  0.15,  383,  1679,  0.16,  0.17,  0.18,  0.19,  0.20,  0.21,  0.22,  84056,  0.23,  0.24,  0.25,  0.26,  0.27,  0.28,  0.29,  58913,  73671,  0.30,  0.31,  0.32,  0.33,  0.34,  0.35,  0.36,  9009,  2669,  0.37,  0.38,  0.39,  0.40,  0.41,  0.42,  0.43,  0.44,  0.45,  0.46,  0.47,  0.48,  0.49,  0.50,  0.51,  0.52,  0.53,  0.54]\n",
      "Index: []\n",
      "\n",
      "[0 rows x 64 columns]\n"
     ]
    }
   ],
   "source": [
    "df_slice = pd.read_csv(\"scm_output.csv\")\n",
    "df = pd.read_csv(\"3x3_8.csv\")\n",
    "\n",
    "# Filtrar resultados\n",
    "resultados = df[df.iloc[:, 9] == 20]\n",
    "\n",
    "# Comparar com o primeiro DataFrame\n",
    "comparacao = df_slice[df_slice.isin(resultados)].dropna()\n",
    "\n",
    "print(comparacao)"
   ]
  },
  {
   "cell_type": "code",
   "execution_count": 27,
   "metadata": {},
   "outputs": [
    {
     "name": "stdout",
     "output_type": "stream",
     "text": [
      "Empty DataFrame\n",
      "Columns: [1,  2,  3,  4,  5,  6,  7,  8,  9,  10,  11,  12,  13,  14,  15,  16,  17,  18,  19,  20,  21,  22,  23,  24,  25,  26,  27,  28,  29,  30,  31,  32,  33,  34,  35,  36,  37,  38,  39,  40,  41,  42,  43,  44,  45,  46,  47,  48,  49,  50,  51,  52,  53,  54,  55,  56,  57,  58,  59,  60,  61,  62,  63,  64,  65]\n",
      "Index: []\n",
      "\n",
      "[0 rows x 65 columns]\n"
     ]
    }
   ],
   "source": [
    "df = pd.read_csv(\"3x3_8.csv\")\n",
    "resultados = df[df.iloc[:, 9] == 20]\n",
    "print(resultados)"
   ]
  },
  {
   "cell_type": "code",
   "execution_count": 28,
   "metadata": {},
   "outputs": [
    {
     "data": {
      "text/html": [
       "<div>\n",
       "<style scoped>\n",
       "    .dataframe tbody tr th:only-of-type {\n",
       "        vertical-align: middle;\n",
       "    }\n",
       "\n",
       "    .dataframe tbody tr th {\n",
       "        vertical-align: top;\n",
       "    }\n",
       "\n",
       "    .dataframe thead th {\n",
       "        text-align: right;\n",
       "    }\n",
       "</style>\n",
       "<table border=\"1\" class=\"dataframe\">\n",
       "  <thead>\n",
       "    <tr style=\"text-align: right;\">\n",
       "      <th></th>\n",
       "      <th>0</th>\n",
       "      <th>0</th>\n",
       "      <th>0.1</th>\n",
       "      <th>0.2</th>\n",
       "      <th>0.3</th>\n",
       "      <th>0.4</th>\n",
       "      <th>0.5</th>\n",
       "      <th>0.6</th>\n",
       "      <th>0.7</th>\n",
       "      <th>0.8</th>\n",
       "      <th>...</th>\n",
       "      <th>0.45</th>\n",
       "      <th>0.46</th>\n",
       "      <th>0.47</th>\n",
       "      <th>0.48</th>\n",
       "      <th>0.49</th>\n",
       "      <th>0.50</th>\n",
       "      <th>0.51</th>\n",
       "      <th>0.52</th>\n",
       "      <th>0.53</th>\n",
       "      <th>0.54</th>\n",
       "    </tr>\n",
       "  </thead>\n",
       "  <tbody>\n",
       "  </tbody>\n",
       "</table>\n",
       "<p>0 rows × 64 columns</p>\n",
       "</div>"
      ],
      "text/plain": [
       "Empty DataFrame\n",
       "Columns: [0,  0,  0.1,  0.2,  0.3,  0.4,  0.5,  0.6,  0.7,  0.8,  20,  0.9,  0.10,  0.11,  0.12,  0.13,  0.14,  0.15,  383,  1679,  0.16,  0.17,  0.18,  0.19,  0.20,  0.21,  0.22,  84056,  0.23,  0.24,  0.25,  0.26,  0.27,  0.28,  0.29,  58913,  73671,  0.30,  0.31,  0.32,  0.33,  0.34,  0.35,  0.36,  9009,  2669,  0.37,  0.38,  0.39,  0.40,  0.41,  0.42,  0.43,  0.44,  0.45,  0.46,  0.47,  0.48,  0.49,  0.50,  0.51,  0.52,  0.53,  0.54]\n",
       "Index: []\n",
       "\n",
       "[0 rows x 64 columns]"
      ]
     },
     "execution_count": 28,
     "metadata": {},
     "output_type": "execute_result"
    }
   ],
   "source": [
    "df_slice = pd.read_csv(\"scm_output.csv\")\n",
    "df_slice"
   ]
  }
 ],
 "metadata": {
  "kernelspec": {
   "display_name": "venv",
   "language": "python",
   "name": "python3"
  },
  "language_info": {
   "codemirror_mode": {
    "name": "ipython",
    "version": 3
   },
   "file_extension": ".py",
   "mimetype": "text/x-python",
   "name": "python",
   "nbconvert_exporter": "python",
   "pygments_lexer": "ipython3",
   "version": "3.10.11"
  }
 },
 "nbformat": 4,
 "nbformat_minor": 2
}
